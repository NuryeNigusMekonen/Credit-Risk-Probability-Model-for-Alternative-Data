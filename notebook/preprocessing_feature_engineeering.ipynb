{
 "cells": [
  {
   "cell_type": "code",
   "execution_count": 1,
   "id": "10181521",
   "metadata": {},
   "outputs": [],
   "source": [
    "import sys, os\n",
    "sys.path.append(os.path.abspath(\"..\"))\n",
    "from src.data_preprocessing import preprocess_raw_data, get_preprocessing_pipeline"
   ]
  },
  {
   "cell_type": "code",
   "execution_count": 2,
   "id": "fbd15066",
   "metadata": {},
   "outputs": [],
   "source": [
    "# clean or preprocessing\n",
    "import pandas as pd\n",
    "from src.data_preprocessing import preprocess_raw_data, get_preprocessing_pipeline\n",
    "# Step 1: Load Raw Data\n",
    "df_raw = pd.read_csv('../data/raw/data.csv')\n",
    "# Step 2: Clean Data (drops, feature extraction)\n",
    "df_cleaned = preprocess_raw_data(df_raw)\n",
    "# Step 3: Define features for the pipeline\n",
    "numeric_features = ['Amount', 'txn_year', 'txn_month', 'txn_dayofweek', 'txn_hour']\n",
    "categorical_features = ['ProviderId', 'ProductId', 'ProductCategory', 'ChannelId', 'PricingStrategy']\n",
    "# save cleaned data \n",
    "df_cleaned.to_csv('../data/processed/cleaned_transactions.csv', index=False)"
   ]
  },
  {
   "cell_type": "markdown",
   "id": "97921201",
   "metadata": {},
   "source": [
    "### `engineer_features(df)`:\n",
    "\n",
    "* Adds **datetime features** (txn\\_year, txn\\_month, etc.)\n",
    "* Applies `CustomerAggregationTransformer()` to compute per-customer stats:\n",
    "  * `Amount_sum`, `Amount_mean`, `Amount_std`, `Amount_count`\n",
    "  * Frequency of `txn_month`, `txn_hour`, etc.\n",
    "  * Mode of `ProductCategory`, `ProviderId`, etc.\n",
    "\n",
    "###  `build_feature_pipeline()`:\n",
    "\n",
    "* Defines a `sklearn.pipeline.Pipeline` with:\n",
    "  * `SimpleImputer` → `StandardScaler` for numerical features\n",
    "  * `SimpleImputer` → `OneHotEncoder` for categorical features\n",
    "* Wraps everything in a `ColumnTransformer`"
   ]
  },
  {
   "cell_type": "code",
   "execution_count": 5,
   "id": "0f2a2734",
   "metadata": {},
   "outputs": [],
   "source": [
    "#  Feature Engineering \n",
    "from src.feature_engineering import engineer_features, build_feature_pipeline\n",
    "df_cleaned = pd.read_csv('../data/processed/cleaned_transactions.csv')\n",
    "df_features = engineer_features(df_cleaned)\n",
    "pipeline = build_feature_pipeline()\n",
    "X = pipeline.fit_transform(df_features)"
   ]
  },
  {
   "cell_type": "code",
   "execution_count": 6,
   "id": "f9cf254f",
   "metadata": {},
   "outputs": [],
   "source": [
    "# Save the engineered features to a CSV\n",
    "df_features.to_csv('../data/processed/feature_engineered.csv', index=False)"
   ]
  }
 ],
 "metadata": {
  "kernelspec": {
   "display_name": "CS-venv",
   "language": "python",
   "name": "python3"
  },
  "language_info": {
   "codemirror_mode": {
    "name": "ipython",
    "version": 3
   },
   "file_extension": ".py",
   "mimetype": "text/x-python",
   "name": "python",
   "nbconvert_exporter": "python",
   "pygments_lexer": "ipython3",
   "version": "3.10.18"
  }
 },
 "nbformat": 4,
 "nbformat_minor": 5
}
