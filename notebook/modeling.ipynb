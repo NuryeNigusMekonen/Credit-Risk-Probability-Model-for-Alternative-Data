{
 "cells": [
  {
   "cell_type": "code",
   "execution_count": 1,
   "id": "90008846",
   "metadata": {},
   "outputs": [],
   "source": [
    "# step one\n",
    "import sys, os\n",
    "sys.path.append(os.path.abspath(\"..\"))\n",
    "from src.modeling import train_and_track_models"
   ]
  },
  {
   "cell_type": "code",
   "execution_count": 2,
   "id": "6d960746",
   "metadata": {},
   "outputs": [],
   "source": [
    "#  Step 2: Define Paths and Parameters\n",
    "data_path = \"../data/processed/features_with_target.csv\"   \n",
    "target_col = \"is_high_risk\"       # Proxy target created in Task 4\n",
    "id_col = \"CustomerId\"\n",
    "model_dir = \"../models\"\n",
    "report_dir = \"../reports\"\n",
    "mlflow_experiment_name = \"credit-risk-models\"\n",
    "random_state = 42"
   ]
  },
  {
   "cell_type": "code",
   "execution_count": 3,
   "id": "23cff6e3",
   "metadata": {},
   "outputs": [
    {
     "name": "stdout",
     "output_type": "stream",
     "text": [
      "Data loaded: 3742 rows, 14 cols\n",
      "Missing values per column before processing:\n",
      "Amount_sum                 0\n",
      "Amount_mean                0\n",
      "Amount_std               712\n",
      "Amount_count               0\n",
      "txn_year_nunique           0\n",
      "txn_month_nunique          0\n",
      "txn_dayofweek_nunique      0\n",
      "txn_hour_nunique           0\n",
      "ProviderId                 0\n",
      "ProductCategory            0\n",
      "ChannelId                  0\n",
      "PricingStrategy            0\n",
      "dtype: int64\n",
      "Missing values detected and will be handled via imputation in pipeline.\n",
      "Numerical columns: ['Amount_sum', 'Amount_mean', 'Amount_std', 'Amount_count', 'txn_year_nunique', 'txn_month_nunique', 'txn_dayofweek_nunique', 'txn_hour_nunique', 'PricingStrategy']\n",
      "Categorical columns: ['ProviderId', 'ProductCategory', 'ChannelId']\n",
      "Train size: 2993, Test size: 749\n",
      "\n",
      "Training model: logistic_regression\n",
      "Best Params: {'clf__C': 0.01}\n",
      "Classification Report:\n",
      "               precision    recall  f1-score   support\n",
      "\n",
      "           0       0.87      0.54      0.67       463\n",
      "           1       0.54      0.87      0.67       286\n",
      "\n",
      "    accuracy                           0.67       749\n",
      "   macro avg       0.71      0.71      0.67       749\n",
      "weighted avg       0.75      0.67      0.67       749\n",
      "\n",
      "Confusion Matrix:\n",
      " [[251 212]\n",
      " [ 36 250]]\n",
      "Accuracy: 0.6689\n",
      "Precision: 0.5411\n",
      "Recall: 0.8741\n",
      "F1 Score: 0.6684\n",
      "ROC AUC: 0.7682\n",
      "\n",
      "Training model: random_forest\n",
      "Best Params: {'clf__max_depth': 10, 'clf__n_estimators': 200}\n",
      "Classification Report:\n",
      "               precision    recall  f1-score   support\n",
      "\n",
      "           0       0.88      0.67      0.76       463\n",
      "           1       0.61      0.85      0.71       286\n",
      "\n",
      "    accuracy                           0.74       749\n",
      "   macro avg       0.75      0.76      0.74       749\n",
      "weighted avg       0.78      0.74      0.74       749\n",
      "\n",
      "Confusion Matrix:\n",
      " [[308 155]\n",
      " [ 42 244]]\n",
      "Accuracy: 0.7370\n",
      "Precision: 0.6115\n",
      "Recall: 0.8531\n",
      "F1 Score: 0.7124\n",
      "ROC AUC: 0.8208\n",
      "\n",
      "Training model: xgboost\n"
     ]
    },
    {
     "name": "stderr",
     "output_type": "stream",
     "text": [
      "/home/nurye/Desktop/10_Academy/week_5/Credit-Risk-Probability-Model-for-Alternative-Data/CS-venv/lib/python3.10/site-packages/mlflow/types/utils.py:452: UserWarning: Hint: Inferred schema contains integer column(s). Integer columns in Python cannot represent missing values. If your input data contains missing values at inference time, it will be encoded as floats and will cause a schema enforcement error. The best way to avoid this problem is to infer the model schema based on a realistic data sample (training dataset) that includes missing values. Alternatively, you can declare integer columns as doubles (float64) whenever these columns may have missing values. See `Handling Integers With Missing Values <https://www.mlflow.org/docs/latest/models.html#handling-integers-with-missing-values>`_ for more details.\n",
      "  warnings.warn(\n",
      "2025/06/27 10:19:13 WARNING mlflow.models.model: `artifact_path` is deprecated. Please use `name` instead.\n"
     ]
    },
    {
     "name": "stdout",
     "output_type": "stream",
     "text": [
      "Best Params: {'clf__learning_rate': 0.1, 'clf__max_depth': 3, 'clf__n_estimators': 200}\n",
      "Classification Report:\n",
      "               precision    recall  f1-score   support\n",
      "\n",
      "           0       0.90      0.63      0.74       463\n",
      "           1       0.59      0.88      0.71       286\n",
      "\n",
      "    accuracy                           0.72       749\n",
      "   macro avg       0.75      0.76      0.72       749\n",
      "weighted avg       0.78      0.72      0.73       749\n",
      "\n",
      "Confusion Matrix:\n",
      " [[290 173]\n",
      " [ 33 253]]\n",
      "Accuracy: 0.7250\n",
      "Precision: 0.5939\n",
      "Recall: 0.8846\n",
      "F1 Score: 0.7107\n",
      "ROC AUC: 0.8211\n",
      "\n",
      "Best model: random_forest with F1 score: 0.7124\n"
     ]
    },
    {
     "name": "stderr",
     "output_type": "stream",
     "text": [
      "Registered model 'random_forest_final' already exists. Creating a new version of this model...\n",
      "Created version '4' of model 'random_forest_final'.\n"
     ]
    }
   ],
   "source": [
    "#  Step 3: Train Models & Track with MLflow\n",
    "best_model_name, best_model, best_f1_score = train_and_track_models(\n",
    "    data_path=data_path,\n",
    "    target_col=target_col,\n",
    "    id_col=id_col,\n",
    "    model_dir=model_dir,\n",
    "    report_dir=report_dir,\n",
    "    mlflow_experiment_name=mlflow_experiment_name,\n",
    "    random_state=random_state\n",
    ")\n"
   ]
  },
  {
   "cell_type": "code",
   "execution_count": null,
   "id": "0297a016",
   "metadata": {},
   "outputs": [
    {
     "name": "stdout",
     "output_type": "stream",
     "text": [
      " Best Model: random_forest\n",
      " Best F1 Score: 0.7124\n"
     ]
    }
   ],
   "source": [
    "#  Step 4: Summary\n",
    "print(f\" Best Model: {best_model_name}\")\n",
    "print(f\" Best F1 Score: {best_f1_score:.4f}\")"
   ]
  }
 ],
 "metadata": {
  "kernelspec": {
   "display_name": "CS-venv",
   "language": "python",
   "name": "python3"
  },
  "language_info": {
   "codemirror_mode": {
    "name": "ipython",
    "version": 3
   },
   "file_extension": ".py",
   "mimetype": "text/x-python",
   "name": "python",
   "nbconvert_exporter": "python",
   "pygments_lexer": "ipython3",
   "version": "3.10.18"
  }
 },
 "nbformat": 4,
 "nbformat_minor": 5
}
